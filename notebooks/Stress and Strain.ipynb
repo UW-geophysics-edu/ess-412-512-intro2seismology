{
 "cells": [
  {
   "cell_type": "markdown",
   "metadata": {},
   "source": [
    "# Stress and Strain in California: The Pinon Flat Observatory\n",
    "\n",
    "This notebook was borrowed from Heiner Igel's github repository.\n",
    "\n",
    "<img src=\"https://scripps.ucsd.edu/sites/default/files/2020-09/PFO_TRAILER_sm.jpg\" style=\"width:400px\" />\n"
   ]
  },
  {
   "cell_type": "code",
   "execution_count": null,
   "metadata": {
    "code_folding": []
   },
   "outputs": [],
   "source": [
    "# Imports\n",
    "import matplotlib.pyplot as plt\n",
    "import numpy as np\n",
    "from numpy import linalg as la"
   ]
  },
  {
   "cell_type": "markdown",
   "metadata": {
    "collapsed": true
   },
   "source": [
    "### The University of California is running an observatory that is measuring deformations: \n",
    "\n",
    "a)\tat 5km depth the seismic velocities are vp=6km/s, vs=3.5km/s and the density is 2700kg/m3. Calculate the values of the Lamé parameters in Pascal. \n",
    "\n",
    "We need:\n",
    "$ v_p = \\sqrt{\\frac{\\lambda + 2 \\mu}{\\rho}} $, \n",
    "to obtain\n",
    "$ \\lambda = \\rho v_p^2 - 2 \\mu $, \n",
    "wegen \n",
    "$ v_s = \\sqrt{\\frac{\\mu}{\\rho}} $, \n",
    "$ \\mu = \\rho v_s^2 $, \n",
    "we obtain:\n",
    "\n",
    "$ \\lambda = \\rho v_p^2 - 2 \\rho v_s^2 $\n"
   ]
  },
  {
   "cell_type": "code",
   "execution_count": null,
   "metadata": {},
   "outputs": [],
   "source": [
    "vp = 6000.    # m/s\n",
    "vs = 3500.    # m/s\n",
    "ro = 2700.0   # kg/m**3\n",
    "\n",
    "lam = \n",
    "mu = \n",
    "\n",
    "print('Lame Parameters: ')\n",
    "print(' 1: Lambda ')\n",
    "print(lam,' Pa ')\n",
    "print(lam/1000000,' MPa ')\n",
    "print(lam/1000000000,' GPa ')\n",
    "print(' 1: Mu ')\n",
    "print(mu,' Pa ')\n",
    "print(mu/1000000,' MPa ')\n",
    "print(mu/1000000000,' GPa ')"
   ]
  },
  {
   "cell_type": "markdown",
   "metadata": {},
   "source": [
    "b)\tAfter the Landers earthquake 1992 (M7.3) the following deformations were measured 80km to the north of the observatory: e11=-0.26x10-6, e12=-0.69x10-6, e22=0.92x10-6. Indices 1 and 2 correspond to East and North, resp. Calculate – assuming that these values are also true at depth – the changes in stress at 5km depth with the results from (a). Treat this is a 2D problem and neglect stress in vertical direction. \n",
    "\n"
   ]
  },
  {
   "cell_type": "markdown",
   "metadata": {
    "collapsed": true
   },
   "source": [
    "Solution: The stress-strain relation is given as \n",
    "\n",
    "$ \\sigma_{ij} = \\epsilon_{ij}\\delta_{ij} \\lambda + 2 \\mu \\epsilon_{ij} $ \n",
    "\n",
    "in our case we can restrict ourselves to 2D. In this case a diagonal element is \n",
    "\n",
    "$ \\sigma_{11} = \\lambda (\\epsilon_{11} + \\epsilon_{yy}) + 2 \\mu \\epsilon_{11} $\n",
    "\n",
    "and a non-diagonal element would be \n",
    "\n",
    "$ \\sigma_{12} =  2 \\mu \\epsilon_{12} $\n"
   ]
  },
  {
   "cell_type": "code",
   "execution_count": null,
   "metadata": {},
   "outputs": [],
   "source": [
    "# Initialize strains\n",
    "e11 = \n",
    "e12 =\n",
    "e22=\n",
    "\n",
    "# calculate stress changes\n",
    "s11 = \n",
    "s22 = \n",
    "s12 = \n",
    "\n",
    "print(' Stresses (Pa)')\n",
    "print('s11 = ',s11)\n",
    "print('s22 = ',s22)\n",
    "print('s12 = ',s12)\n"
   ]
  },
  {
   "cell_type": "markdown",
   "metadata": {},
   "source": [
    "c)\tCalculate the dominant stress directions (horizontal as azimuth over North). Remember this is an eigenvalue problem. \n"
   ]
  },
  {
   "cell_type": "markdown",
   "metadata": {
    "collapsed": true
   },
   "source": [
    "We need to solve an eigenvalue problem \n",
    "\n",
    " $\\sigma_{ij} x_j  = \\lambda x_j $ \n",
    " \n",
    "to obtain two eigenvalues and the eigenvectors. We use the numpy-linalg routine \"eig\" for this. "
   ]
  },
  {
   "cell_type": "code",
   "execution_count": null,
   "metadata": {},
   "outputs": [],
   "source": [
    "# Calculate eigenvalues and eigenvectors for s  (previously calculated)\n",
    "\n",
    "# initialize 2D tensor\n",
    "s = np.zeros((2,2))\n",
    "s[0,0] = \n",
    "s[1,1] = \n",
    "s[0,1] = \n",
    "s[1,0] = \n",
    "\n",
    "print(' Stress tensor ')\n",
    "print(s)\n",
    "\n",
    "# Calculate eigenvalues w and eigenvectors v (see other notebook)\n",
    "\n",
    "\n",
    "# Eigenvalues:\n",
    "print('Eigenvalues')\n",
    "print(' 1 : ',w[0])\n",
    "print(' 2 : ',w[1])\n",
    "\n",
    "# Eigenvectors:\n",
    "print('Eigenvectors')\n",
    "print(' 1 : ',v[:,0])\n",
    "print(' 2 : ',v[:,1])\n"
   ]
  },
  {
   "cell_type": "markdown",
   "metadata": {},
   "source": [
    "\n",
    "d)\tThe yearly deformation rates were measured as: e11=0.101x10-6, e12=0.005x10-6, e22=-0.02x10-6. Assume that this deformation continues for 1000 years. Calculate the stress change at 5km depth using results from a). \n",
    "\n"
   ]
  },
  {
   "cell_type": "code",
   "execution_count": null,
   "metadata": {},
   "outputs": [],
   "source": [
    "# Initialize strains\n",
    "e11 =\n",
    "e12 = \n",
    "e22=  \n",
    "\n",
    "# calculate stress changes\n",
    "s11 = \n",
    "s22 = \n",
    "s12 = \n",
    "\n",
    "print(' Stresses (Pa)')\n",
    "print('s11 = ',s11)\n",
    "print('s22 = ',s22)\n",
    "print('s12 = ',s12)"
   ]
  },
  {
   "cell_type": "markdown",
   "metadata": {},
   "source": [
    "e)\tA farmer owns 1km2 near the observatory. How much land does he win or loose every year? How much land did he win or loose with the Landers earthquake? "
   ]
  },
  {
   "cell_type": "code",
   "execution_count": null,
   "metadata": {},
   "outputs": [],
   "source": [
    "# Annual Change\n",
    "\n",
    "\n",
    "# Initialize strains\n",
    "e11 = \n",
    "e12 = \n",
    "e22= \n",
    "\n",
    "\n",
    "# initialize 2D tensor\n",
    "e = np.zeros((2,2))\n",
    "e[0,0] = e11\n",
    "e[1,1] = e22\n",
    "e[0,1] = e12\n",
    "e[1,0] = e12\n",
    "\n",
    "print(' Deformation tensor ')\n",
    "print(e)\n",
    "\n",
    "w,v = la.eig(e)\n",
    "\n",
    "# Eigenvalues:\n",
    "print('Eigenvalues')\n",
    "print(' 1 : ',w[0])\n",
    "print(' 2 : ',w[1])\n",
    "\n",
    "# Eigenvectors:\n",
    "print('Eigenvectors')\n",
    "print(' 1 : ',v[:,0])\n",
    "print(' 2 : ',v[:,1])"
   ]
  },
  {
   "cell_type": "markdown",
   "metadata": {
    "collapsed": true
   },
   "source": [
    "Old surface is 1000m x 1000m \n",
    "\n",
    "Surface after one year is (1000m + ev1 x 1000m) x  (1000m + ev2 x 1000m)"
   ]
  },
  {
   "cell_type": "code",
   "execution_count": null,
   "metadata": {},
   "outputs": [],
   "source": [
    "print(' Old surface ',1000*1000,'m**2')\n",
    "print(' New surface ',(1000+1000*w[0])*(1000+1000*w[1]),'m)**2')"
   ]
  },
  {
   "cell_type": "code",
   "execution_count": null,
   "metadata": {},
   "outputs": [],
   "source": [
    "# Landers\n",
    "\n",
    "\n",
    "# Initialize strains\n",
    "e11 = \n",
    "e12 = \n",
    "e22=\n",
    "\n",
    "# initialize 2D tensor\n",
    "e = np.zeros((2,2))\n",
    "e[0,0] = e11\n",
    "e[1,1] = e22\n",
    "e[0,1] = e12\n",
    "e[1,0] = e12\n",
    "\n",
    "print(' Deformation tensor ')\n",
    "print(e)\n",
    "\n",
    "w,v = la.eig(e)\n",
    "\n",
    "# Eigenvalues:\n",
    "print('Eigenvalues')\n",
    "print(' 1 : ',w[0])\n",
    "print(' 2 : ',w[1])\n",
    "\n",
    "# Eigenvectors:\n",
    "print('Eigenvectors')\n",
    "print(' 1 : ',v[:,0])\n",
    "print(' 2 : ',v[:,1])\n",
    "\n",
    "print(' Old surface ',1000*1000,'m**2')\n",
    "print(' New surface ',(1000+1000*w[0])*(1000+1000*w[1]),'m)**2')"
   ]
  },
  {
   "cell_type": "code",
   "execution_count": null,
   "metadata": {},
   "outputs": [],
   "source": []
  }
 ],
 "metadata": {
  "anaconda-cloud": {},
  "kernelspec": {
   "display_name": "Python 3",
   "language": "python",
   "name": "python3"
  },
  "language_info": {
   "codemirror_mode": {
    "name": "ipython",
    "version": 3
   },
   "file_extension": ".py",
   "mimetype": "text/x-python",
   "name": "python",
   "nbconvert_exporter": "python",
   "pygments_lexer": "ipython3",
   "version": "3.7.8"
  }
 },
 "nbformat": 4,
 "nbformat_minor": 1
}
